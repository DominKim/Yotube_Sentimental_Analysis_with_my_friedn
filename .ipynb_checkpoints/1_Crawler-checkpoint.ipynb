{
 "cells": [
  {
   "cell_type": "code",
   "execution_count": 126,
   "metadata": {},
   "outputs": [],
   "source": [
    "from selenium.webdriver import Chrome\n",
    "from selenium.webdriver.common.keys import Keys\n",
    "import time\n",
    "from pandas.io import sql\n",
    "import os\n",
    "import pandas as pd\n",
    "# from decouple import config\n",
    "import pandas as pd\n",
    "import numpy as np\n",
    "from urllib.request import urlretrieve\n",
    "from PIL import Image\n",
    "from matplotlib import cm\n",
    "\n",
    "from selenium import webdriver\n",
    "\n",
    "options = webdriver.ChromeOptions()\n",
    "options.add_argument(\"--start-maximized\"); # chrome 브라우저를 최대한 크기로 옵션을 주는 것\n",
    "\n",
    "# Chrome 실행\n",
    "browser = webdriver.Chrome('./chromedriver', options=options)"
   ]
  },
  {
   "cell_type": "code",
   "execution_count": 127,
   "metadata": {},
   "outputs": [],
   "source": [
    "# 경돼 유튜브 이동\n",
    "browser.get(\"https://www.youtube.com/channel/UCFa0g-8D8hYuHvdIh6XQCOg\")\n",
    "\n",
    "# 동영상탭 클릭\n",
    "browser.find_element_by_xpath('//*[@id=\"tabsContent\"]/paper-tab[2]/div').click()\n",
    "\n",
    "\n",
    "# 동영상 탭 url 추출\n",
    "base_url = browser.current_url\n",
    "# 인기동영상 정렬 url 추출\n",
    "popular_url = \"?view=0&sort=p&flow=grid\"\n",
    "# 인기동영상 정렬 이동\n",
    "browser.get(base_url + popular_url)\n"
   ]
  },
  {
   "cell_type": "code",
   "execution_count": null,
   "metadata": {},
   "outputs": [],
   "source": []
  },
  {
   "cell_type": "code",
   "execution_count": 128,
   "metadata": {},
   "outputs": [],
   "source": [
    "def youtube_comments_crawling():\n",
    "    \n",
    "    browser.find_element_by_xpath('//*[@id=\"movie_player\"]/div[32]/div[2]/div[1]/button').click()\n",
    "    time.sleep(3)\n",
    "    \n",
    "    # 동영상 제목\n",
    "    name = browser.find_element_by_xpath('//*[@id=\"container\"]/h1/yt-formatted-string').text\n",
    "    time.sleep(1)\n",
    "    # 조회수\n",
    "    watch = browser.find_element_by_xpath('//*[@id=\"count\"]/yt-view-count-renderer/span[1]').text\n",
    "    watch = int(a.split(\" \")[1].replace(\",\", \"\").replace(\"회\", \"\"))\n",
    "    time.sleep(1)\n",
    "    \n",
    "    # 업로드 날짜\n",
    "    upload = browser.find_element_by_xpath('//*[@id=\"date\"]/yt-formatted-string').text\n",
    "    time.sleep(1)\n",
    "    \n",
    "    # 댓글 수\n",
    "    num = browser.find_element_by_xpath('//*[@id=\"count\"]/yt-formatted-string').text\n",
    "    num = int(num.split(\" \")[1].replace(\",\", \"\").replace(\"개\", \"\"))\n",
    "    time.sleep(1)\n",
    "\n",
    "    # 스크롤 횟수\n",
    "    times = (num // 7) + 2\n",
    "\n",
    "    body = browser.find_element_by_css_selector('body')\n",
    "    for i in range(times):\n",
    "        body.send_keys(Keys.PAGE_DOWN)\n",
    "        time.sleep(1)\n",
    "\n",
    "    # 댓글 lst\n",
    "    comment_lst = []\n",
    "    # 2부터\n",
    "    for i in range(2, (num + 1)):\n",
    "        comment = browser.find_element_by_xpath(f'/html/body/ytd-app/div/ytd-page-manager/ytd-watch-flexy/div[5]/div[1]/div/ytd-comments/ytd-item-section-renderer/div[3]/ytd-comment-thread-renderer[{str(i)}]/ytd-comment-renderer/div[1]/div[2]/ytd-expander/div').text\n",
    "        comment_lst.append(comment)\n",
    "        time.sleep(0.3)\n",
    "        \n",
    "    return name, watch, upload, num, comment_lst"
   ]
  },
  {
   "cell_type": "code",
   "execution_count": null,
   "metadata": {},
   "outputs": [
    {
     "name": "stdout",
     "output_type": "stream",
     "text": [
      "2\n",
      "3\n",
      "4\n",
      "5\n",
      "6\n",
      "7\n",
      "8\n",
      "9\n",
      "10\n",
      "11\n",
      "12\n",
      "13\n",
      "14\n",
      "15\n",
      "16\n",
      "17\n",
      "18\n",
      "19\n",
      "20\n",
      "21\n",
      "22\n",
      "23\n",
      "24\n",
      "25\n",
      "26\n",
      "27\n",
      "28\n",
      "29\n",
      "30\n",
      "31\n",
      "32\n",
      "33\n",
      "34\n",
      "35\n",
      "36\n",
      "37\n",
      "38\n",
      "39\n",
      "40\n",
      "41\n",
      "42\n",
      "43\n",
      "44\n",
      "45\n",
      "46\n",
      "47\n",
      "48\n",
      "49\n",
      "50\n",
      "51\n",
      "52\n",
      "53\n",
      "54\n",
      "55\n",
      "56\n"
     ]
    }
   ],
   "source": [
    "name, watch, upload, num, comment_lst = youtube_comments_crawling()"
   ]
  },
  {
   "cell_type": "code",
   "execution_count": null,
   "metadata": {},
   "outputs": [],
   "source": [
    "name_lst = []\n",
    "watch_lst = []\n",
    "upload_lst = []\n",
    "num_of_comments_lst = []\n",
    "comment_lst_lst = []\n",
    "\n",
    "# 동영상 조회\n",
    "for i in range(1, 3):\n",
    "    browser.find_element_by_xpath(f'/html/body/ytd-app/div/ytd-page-manager/ytd-browse/ytd-two-column-browse-results-renderer/div[1]/ytd-section-list-renderer/div[2]/ytd-item-section-renderer/div[3]/ytd-grid-renderer/div[1]/ytd-grid-video-renderer[{str(i)}]/div[1]/div[1]/div[1]/h3/a').click()\n",
    "    name, watch, upload, num, comment_lst = youtube_comments_crawling()\n",
    "    name_lst.append(name)\n",
    "    watch_lst.append(watch)\n",
    "    upload_lst.append(upload)\n",
    "    num_of_comments_lst.append(num)\n",
    "    comment_lst_lst\n",
    "    \n",
    "    browser.get(base_url + popular_url)\n",
    "\n"
   ]
  },
  {
   "cell_type": "code",
   "execution_count": null,
   "metadata": {},
   "outputs": [],
   "source": []
  },
  {
   "cell_type": "code",
   "execution_count": 61,
   "metadata": {},
   "outputs": [],
   "source": []
  },
  {
   "cell_type": "code",
   "execution_count": 62,
   "metadata": {},
   "outputs": [],
   "source": []
  },
  {
   "cell_type": "code",
   "execution_count": 41,
   "metadata": {},
   "outputs": [
    {
     "data": {
      "text/plain": [
       "(['비포애프터 5개월 후, 10kg 감량'], [749899], ['2016. 7. 23.'])"
      ]
     },
     "execution_count": 41,
     "metadata": {},
     "output_type": "execute_result"
    }
   ],
   "source": [
    "name_lst, watch_lst, upload_lst"
   ]
  }
 ],
 "metadata": {
  "kernelspec": {
   "display_name": "Python 3",
   "language": "python",
   "name": "python3"
  },
  "language_info": {
   "codemirror_mode": {
    "name": "ipython",
    "version": 3
   },
   "file_extension": ".py",
   "mimetype": "text/x-python",
   "name": "python",
   "nbconvert_exporter": "python",
   "pygments_lexer": "ipython3",
   "version": "3.7.6"
  }
 },
 "nbformat": 4,
 "nbformat_minor": 4
}
